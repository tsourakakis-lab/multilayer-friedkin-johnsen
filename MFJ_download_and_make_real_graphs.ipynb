{
 "cells": [
  {
   "cell_type": "code",
   "execution_count": 1,
   "id": "0948d29e",
   "metadata": {},
   "outputs": [],
   "source": [
    "import pandas as pd\n",
    "import networkx as nx\n",
    "import numpy as np\n",
    "import torch\n",
    "import dimod\n",
    "import dwave_networkx as dnx"
   ]
  },
  {
   "cell_type": "code",
   "execution_count": 2,
   "id": "64418215",
   "metadata": {},
   "outputs": [],
   "source": [
    "#return edges of networkx graph as a list\n",
    "def nxgetEdges(g):\n",
    "    edges = []\n",
    "    for u,v in g.edges():\n",
    "        if 'weight' in g[u][v]:\n",
    "            edges.append([u,v,g[u][v]['weight']])\n",
    "        else: edges.append([u,v])\n",
    "    return edges"
   ]
  },
  {
   "cell_type": "markdown",
   "id": "90f1dcbc",
   "metadata": {},
   "source": [
    "## Download Data  from https://networks.skewed.de/\n",
    "\n",
    "### 1) Aarhus: https://networks.skewed.de/net/cs_department/files/cs_department.csv.zip\n",
    "\n",
    "### 2) Jazz: https://networks.skewed.de/net/jazz_collab/files/jazz_collab.csv.zip\n",
    "\n",
    "### 3) Facebook: https://networks.skewed.de/net/facebook_friends/files/facebook_friends.csv.zip\n",
    "\n",
    "### 4) School: https://networks.skewed.de/net/spanish_highschools/files/11_2.csv.zip"
   ]
  },
  {
   "cell_type": "code",
   "execution_count": 3,
   "id": "bd07b226",
   "metadata": {},
   "outputs": [
    {
     "name": "stdout",
     "output_type": "stream",
     "text": [
      "Making school Graph...\n",
      "n  702  and   m  11960\n",
      "Nodes of Layer 1 is 398\n",
      "Nodes of Layer 2 is 304\n",
      "Edges of Layer 1 is 2276\n",
      "Edges of Layer 2 is 2533\n",
      "Edges of Layer 3 is 7151\n",
      "\n"
     ]
    }
   ],
   "source": [
    "def make_dataset(_name = 'aarhus', n = 61):\n",
    "    print(f'Making {_name} Graph...')\n",
    "    df = pd.read_csv(f'./datasets/{_name}/edges.csv')\n",
    "    Gs = [nx.Graph() for _ in range(3)] #0->Two disconnected components | 1->bipartite | 2->whole graph\n",
    "    for i in range(3):\n",
    "        for j in range(n):\n",
    "            Gs[i].add_node(j)\n",
    "            Gs[i].add_edge(j, j)\n",
    "    alledges = 0\n",
    "    for index, row in df.iterrows():\n",
    "        u = row['# source']\n",
    "        v = row[' target']\n",
    "        Gs[2].add_edge(u, v)\n",
    "        alledges += 1\n",
    "    \n",
    "    #\n",
    "    \n",
    "    sampler = dimod.SimulatedAnnealingSampler()\n",
    "    cut = dnx.maximum_cut(Gs[2], sampler)\n",
    "    \n",
    "    print('n ',n,' and ',' m ', alledges)\n",
    "    print(f'Nodes of Layer 1 is {len(cut)}')\n",
    "    print(f'Nodes of Layer 2 is {n - len(cut)}')\n",
    "    \n",
    "    edges1 = 0\n",
    "    edges2 = 0\n",
    "    edges3 = 0\n",
    "    for index, row in df.iterrows():\n",
    "        u = row['# source']\n",
    "        v = row[' target']\n",
    "        if (u in cut) and (v in cut):  \n",
    "            Gs[0].add_edge(u, v)\n",
    "            edges1 += 1\n",
    "        elif (u not in cut) and (v not in cut):  \n",
    "            Gs[0].add_edge(u, v)\n",
    "            edges2 += 1\n",
    "        else: \n",
    "            Gs[1].add_edge(u, v)\n",
    "            edges3 += 1\n",
    "            \n",
    "    print(f'Edges of Layer 1 is {edges1}')\n",
    "    print(f'Edges of Layer 2 is {edges2}')\n",
    "    print(f'Edges of Layer 3 is {edges3}')\n",
    "    print()\n",
    "    \n",
    "    Ws = []\n",
    "    for i in range(3):\n",
    "        A = nx.adjacency_matrix(Gs[i]).todense()\n",
    "        Ws.append(torch.from_numpy((A.T*1/A.sum(axis = 1).T).T).double())\n",
    "    return Ws\n",
    "#('aarhus', 61), ('jazz', 198), ('facebook', 362), ('school', 702)\n",
    "datasets_n = [('school', 702)]\n",
    "for _name_n in datasets_n:\n",
    "    make_dataset(_name = _name_n[0], n = _name_n[1])"
   ]
  },
  {
   "cell_type": "markdown",
   "id": "60d44aa8",
   "metadata": {},
   "source": [
    "##### Number of nodes and edges may differ as the maximum-cut algorithm does not provide an optimal solution"
   ]
  }
 ],
 "metadata": {
  "kernelspec": {
   "display_name": "Python 3 (ipykernel)",
   "language": "python",
   "name": "python3"
  },
  "language_info": {
   "codemirror_mode": {
    "name": "ipython",
    "version": 3
   },
   "file_extension": ".py",
   "mimetype": "text/x-python",
   "name": "python",
   "nbconvert_exporter": "python",
   "pygments_lexer": "ipython3",
   "version": "3.9.15"
  }
 },
 "nbformat": 4,
 "nbformat_minor": 5
}
